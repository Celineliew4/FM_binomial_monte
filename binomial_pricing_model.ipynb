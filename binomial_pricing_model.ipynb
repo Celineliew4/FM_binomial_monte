{
 "cells": [
  {
   "cell_type": "markdown",
   "metadata": {},
   "source": [
    "# Binomial Option Pricing Model\n",
    "\n",
    "This notebook explains the binomial option pricing model for European call options and provides a Python implementation with visualizations."
   ]
  },
  {
   "cell_type": "markdown",
   "metadata": {},
   "source": [
    "## 1. Mathematical Foundation\n",
    "\n",
    "The binomial model assumes that the price of an underlying asset follows a discrete-time process where in each period, the price can either go up by a factor $u$ or down by a factor $d$.\n",
    "\n",
    "### Key Parameters\n",
    "\n",
    "- $S_0$: Initial price of the underlying asset\n",
    "- $K$: Strike price of the option\n",
    "- $T$: Time to expiration (in years)\n",
    "- $r$: Risk-free interest rate (annualized)\n",
    "- $\\sigma$: Volatility of the underlying asset\n",
    "- $N$: Number of time steps\n",
    "- $\\Delta t$: Length of each time step ($\\Delta t = T/N$)\n",
    "\n",
    "### Up and Down Factors\n",
    "\n",
    "$$u = e^{\\sigma \\sqrt{\\Delta t}}$$\n",
    "$$d = e^{-\\sigma \\sqrt{\\Delta t}} = 1/u$$\n",
    "\n",
    "### Risk-Neutral Probability\n",
    "\n",
    "$$p = \\frac{e^{r\\Delta t} - d}{u - d}$$\n",
    "\n",
    "### Option Valuation\n",
    "\n",
    "For a European call option, we calculate option payoffs at expiration: $\\max(S_T - K, 0)$\n",
    "\n",
    "Then we work backward through the tree using the risk-neutral valuation formula:\n",
    "\n",
    "$$V_{i,j} = e^{-r\\Delta t}[pV_{i+1,j+1} + (1-p)V_{i+1,j}]$$"
   ]
  },
  {
   "cell_type": "markdown",
   "metadata": {},
   "source": [
    "## 2. Implementation in Python"
   ]
  },
  {
   "cell_type": "code",
   "execution_count": null,
   "metadata": {},
   "outputs": [],
   "source": [
    "import numpy as np\n",
    "import matplotlib.pyplot as plt\n",
    "import networkx as nx\n",
    "import seaborn as sns\n",
    "\n",
    "# Set plotting style\n",
    "plt.style.use('ggplot')\n",
    "sns.set_style(\"whitegrid\")\n",
    "plt.rcParams['figure.figsize'] = (12, 8)"
   ]
  },
  {
   "cell_type": "code",
   "execution_count": null,
   "metadata": {},
   "outputs": [],
   "source": [
    "def binomial_european_call(S0, K, T, r, sigma, N):\n",
    "    \"\"\"Calculate European call option price using binomial model\"\"\"\n",
    "    # Calculate time step\n",
    "    dt = T/N\n",
    "    \n",
    "    # Calculate up and down factors\n",
    "    u = np.exp(sigma * np.sqrt(dt))\n",
    "    d = 1/u\n",
    "    \n",
    "    # Calculate risk-neutral probability\n",
    "    p = (np.exp(r * dt) - d) / (u - d)\n",
    "    \n",
    "    # Initialize stock price tree\n",
    "    stock_tree = np.zeros((N+1, N+1))\n",
    "    \n",
    "    # Populate the stock price tree\n",
    "    for i in range(N+1):\n",
    "        for j in range(i+1):\n",
    "            stock_tree[i, j] = S0 * (u ** j) * (d ** (i - j))\n",
    "    \n",
    "    # Initialize option value tree\n",
    "    option_tree = np.zeros((N+1, N+1))\n",
    "    \n",
    "    # Calculate call option payoffs at expiration\n",
    "    for j in range(N+1):\n",
    "        option_tree[N, j] = max(0, stock_tree[N, j] - K)\n",
    "    \n",
    "    # Backward induction to calculate option values\n",
    "    for i in range(N-1, -1, -1):\n",
    "        for j in range(i+1):\n",
    "            option_tree[i, j] = np.exp(-r * dt) * (p * option_tree[i+1, j+1] + (1-p) * option_tree[i+1, j])\n",
    "    \n",
    "    return option_tree[0, 0], stock_tree, option_tree"
   ]
  },
  {
   "cell_type": "code",
   "execution_count": null,
   "metadata": {},
   "outputs": [],
   "source": [
    "def plot_binomial_tree(stock_tree, option_tree, N):\n",
    "    \"\"\"Visualize binomial tree with stock prices and option values\"\"\"\n",
    "    # Create a directed graph\n",
    "    G = nx.DiGraph()\n",
    "    \n",
    "    # Add nodes and edges\n",
    "    for i in range(N+1):\n",
    "        for j in range(i+1):\n",
    "            node_id = f\"{i},{j}\"\n",
    "            stock_price = stock_tree[i, j]\n",
    "            option_value = option_tree[i, j]\n",
    "            \n",
    "            G.add_node(node_id, pos=(i, j), stock_price=stock_price, option_value=option_value)\n",
    "            \n",
    "            if i < N:\n",
    "                G.add_edge(node_id, f\"{i+1},{j}\")\n",
    "                G.add_edge(node_id, f\"{i+1},{j+1}\")\n",
    "    \n",
    "    # Get positions for nodes\n",
    "    pos = {}\n",
    "    for node in G.nodes():\n",
    "        i, j = map(int, node.split(','))\n",
    "        pos[node] = (i, j - i/2)\n",
    "    \n",
    "    # Create figure with two subplots\n",
    "    fig, (ax1, ax2) = plt.subplots(1, 2, figsize=(16, 8))\n",
    "    \n",
    "    # Set titles\n",
    "    fig.suptitle(f\"European Call Option - Binomial Tree (N={N})\")\n",
    "    ax1.set_title(\"Stock Price Tree\")\n",
    "    ax2.set_title(\"Option Value Tree\")\n",
    "    \n",
    "    # Draw edges\n",
    "    nx.draw_networkx_edges(G, pos, ax=ax1, alpha=0.3)\n",
    "    nx.draw_networkx_edges(G, pos, ax=ax2, alpha=0.3)\n",
    "    \n",
    "    # Draw nodes with color based on values\n",
    "    node_colors1 = [stock_tree[int(node.split(',')[0]), int(node.split(',')[1])] for node in G.nodes()]\n",
    "    nx.draw_networkx_nodes(G, pos, ax=ax1, node_size=700, node_color=node_colors1, cmap=plt.cm.viridis)\n",
    "    \n",
    "    node_colors2 = [option_tree[int(node.split(',')[0]), int(node.split(',')[1])] for node in G.nodes()]\n",
    "    nx.draw_networkx_nodes(G, pos, ax=ax2, node_size=700, node_color=node_colors2, cmap=plt.cm.plasma)\n",
    "    \n",
    "    # Add colorbars\n",
    "    sm1 = plt.cm.ScalarMappable(cmap=plt.cm.viridis, norm=plt.Normalize(vmin=min(node_colors1), vmax=max(node_colors1)))\n",
    "    sm1.set_array([])\n",
    "    plt.colorbar(sm1, ax=ax1).set_label('Stock Price')\n",
    "    \n",
    "    sm2 = plt.cm.ScalarMappable(cmap=plt.cm.plasma, norm=plt.Normalize(vmin=min(node_colors2), vmax=max(node_colors2)))\n",
    "    sm2.set_array([])\n",
    "    plt.colorbar(sm2, ax=ax2).set_label('Option Value')\n",
    "    \n",
    "    # Add labels\n",
    "    labels1 = {node: f\"${G.nodes[node]['stock_price']:.2f}\" for node in G.nodes()}\n",
    "    labels2 = {node: f\"${G.nodes[node]['option_value']:.2f}\" for node in G.nodes()}\n",
    "    \n",
    "    nx.draw_networkx_labels(G, pos, labels=labels1, ax=ax1, font_size=8)\n",
    "    nx.draw_networkx_labels(G, pos, labels=labels2, ax=ax2, font_size=8)\n",
    "    \n",
    "    # Remove axes\n",
    "    ax1.set_axis_off()\n",
    "    ax2.set_axis_off()\n",
    "    \n",
    "    plt.tight_layout()\n",
    "    plt.show()"
   ]
  },
  {
   "cell_type": "markdown",
   "metadata": {},
   "source": [
    "## 3. Example: Pricing a European Call Option"
   ]
  },
  {
   "cell_type": "code",
   "execution_count": null,
   "metadata": {},
   "outputs": [],
   "source": [
    "# Define parameters\n",
    "S0 = 100    # Initial stock price\n",
    "K = 100     # Strike price\n",
    "T = 1       # Time to expiration (in years)\n",
    "r = 0.05    # Risk-free interest rate\n",
    "sigma = 0.2 # Volatility\n",
    "N = 4       # Number of time steps\n",
    "\n",
    "# Price the European call option\n",
    "call_price, stock_tree, option_tree = binomial_european_call(S0, K, T, r, sigma, N)\n",
    "print(f\"European Call Option Price: ${call_price:.4f}\")\n",
    "\n",
    "# Visualize the binomial tree\n",
    "plot_binomial_tree(stock_tree, option_tree, N)"
   ]
  },
  {
   "cell_type": "markdown",
   "metadata": {},
   "source": [
    "## 4. Parameter Impact Analysis\n",
    "\n",
    "Let's examine how different parameters affect the option price:"
   ]
  },
  {
   "cell_type": "code",
   "execution_count": null,
   "metadata": {},
   "outputs": [],
   "source": [
    "def analyze_parameter_effect(param_name, param_range, S0, K, T, r, sigma, N):\n",
    "    \"\"\"Analyze how changing a parameter affects option price\"\"\"\n",
    "    prices = []\n",
    "    \n",
    "    for value in param_range:\n",
    "        params = {'S0': S0, 'K': K, 'T': T, 'r': r, 'sigma': sigma, 'N': N}\n",
    "        params[param_name] = value\n",
    "        \n",
    "        if param_name == 'N':\n",
    "            params['N'] = int(value)\n",
    "            \n",
    "        price, _, _ = binomial_european_call(params['S0'], params['K'], params['T'], \n",
    "                                           params['r'], params['sigma'], params['N'])\n",
    "        prices.append(price)\n",
    "    \n",
    "    plt.figure(figsize=(8, 6))\n",
    "    plt.plot(param_range, prices, 'o-', linewidth=2)\n",
    "    \n",
    "    param_labels = {\n",
    "        'S0': 'Initial Stock Price ($)',\n",
    "        'K': 'Strike Price ($)',\n",
    "        'T': 'Time to Expiration (years)',\n",
    "        'r': 'Risk-Free Rate',\n",
    "        'sigma': 'Volatility',\n",
    "        'N': 'Number of Time Steps'\n",
    "    }\n",
    "    \n",
    "    plt.xlabel(param_labels.get(param_name, param_name))\n",
    "    plt.ylabel('Option Price ($)')\n",
    "    plt.title(f'Effect of {param_labels.get(param_name, param_name)} on Call Option Price')\n",
    "    plt.grid(True)\n",
    "    \n",
    "    if param_name in ['r', 'sigma']:\n",
    "        plt.gca().set_xticklabels([f'{x*100:.0f}%' for x in param_range])\n",
    "    \n",
    "    plt.tight_layout()\n",
    "    plt.show()"
   ]
  },
  {
   "cell_type": "code",
   "execution_count": null,
   "metadata": {},
   "outputs": [],
   "source": [
    "# Vary stock price\n",
    "analyze_parameter_effect('S0', np.linspace(80, 120, 10), S0, K, T, r, sigma, 20)"
   ]
  },
  {
   "cell_type": "code",
   "execution_count": null,
   "metadata": {},
   "outputs": [],
   "source": [
    "# Vary volatility\n",
    "analyze_parameter_effect('sigma', np.linspace(0.1, 0.5, 10), S0, K, T, r, sigma, 20)"
   ]
  },
  {
   "cell_type": "code",
   "execution_count": null,
   "metadata": {},
   "outputs": [],
   "source": [
    "# Vary time to expiration\n",
    "analyze_parameter_effect('T', np.linspace(0.1, 2, 10), S0, K, T, r, sigma, 20)"
   ]
  },
  {
   "cell_type": "markdown",
   "metadata": {},
   "source": [
    "## 5. Conclusion\n",
    "\n",
    "The binomial option pricing model provides a powerful and intuitive framework for valuing options. By constructing a tree of possible future stock prices and working backward to calculate option values, we can accurately price European call options.\n",
    "\n",
    "Key insights from this implementation:\n",
    "\n",
    "1. As the number of time steps increases, the model becomes more accurate\n",
    "2. Higher volatility increases call option values due to greater upside potential\n",
    "3. Longer time to expiration typically increases option values\n",
    "4. The model can be extended to price various option types and incorporate dividends\n",
    "\n",
    "This discrete-time approach also forms the foundation for understanding more complex option pricing models."
   ]
  }
 ],
 "metadata": {
  "kernelspec": {
   "display_name": "Python 3",
   "language": "python",
   "name": "python3"
  },
  "language_info": {
   "codemirror_mode": {
    "name": "ipython",
    "version": 3
   },
   "file_extension": ".py",
   "mimetype": "text/x-python",
   "name": "python",
   "nbconvert_exporter": "python",
   "pygments_lexer": "ipython3",
   "version": "3.8.10"
  }
 },
 "nbformat": 4,
 "nbformat_minor": 4
}
