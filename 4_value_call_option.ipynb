{
 "cells": [
  {
   "cell_type": "code",
   "execution_count": 2,
   "metadata": {},
   "outputs": [],
   "source": [
    "import numpy as np\n",
    "import matplotlib.pyplot as plt\n",
    "import math\n",
    "from scipy.stats import norm\n",
    "rng = np.random.default_rng(seed = 1)"
   ]
  },
  {
   "cell_type": "markdown",
   "metadata": {},
   "source": [
    "## Black Scholes\n",
    "\n",
    "The Black-Scholes model for pricing European Call Options is as follows:\n",
    "\n",
    "$C = N(d_1)S_t - N(d_2)Ke^{-rt}$ <br>\n",
    "<br>\n",
    "Where, <br>\n",
    "$C=$ Call option price <br>\n",
    "$N=$ CDF of the standard normal distribution <br>\n",
    "$S_t=$ Spot price of the underlying asset <br>\n",
    "$K=$ Strike price <br>\n",
    "$r=$ Risk free rate <br>\n",
    "$t=$ time to maturity <br>\n",
    "$\\sigma=$ Asset volatility"
   ]
  },
  {
   "cell_type": "code",
   "execution_count": 3,
   "metadata": {},
   "outputs": [
    {
     "data": {
      "text/plain": [
       "array([ 0.34558419,  0.82161814,  0.33043708, -1.30315723,  0.90535587,\n",
       "        0.44637457, -0.53695324,  0.5811181 ,  0.3645724 ,  0.2941325 ])"
      ]
     },
     "execution_count": 3,
     "metadata": {},
     "output_type": "execute_result"
    }
   ],
   "source": [
    "rng.normal(0,1,size=10)"
   ]
  },
  {
   "cell_type": "code",
   "execution_count": 4,
   "metadata": {},
   "outputs": [],
   "source": [
    "def black_scholes_call(S0: float, \n",
    "                       K: float, \n",
    "                       r: float, \n",
    "                       T: float, \n",
    "                       sigma: float):\n",
    "    d1 = ((np.log(S0/K)+(r+ sigma **2 / 2)*(T))/(sigma * np.sqrt(T)))\n",
    "    d2 = d1 - (sigma * np.sqrt(T))\n",
    "    price = S0 * norm.cdf(d1, loc = 0, scale = 1) - \\\n",
    "            K * np.exp(-r * T) * norm.cdf(d2, loc = 0, scale = 1)\n",
    "    \n",
    "    return price"
   ]
  },
  {
   "cell_type": "code",
   "execution_count": 5,
   "metadata": {},
   "outputs": [
    {
     "data": {
      "text/plain": [
       "4.013192346926676"
      ]
     },
     "execution_count": 5,
     "metadata": {},
     "output_type": "execute_result"
    }
   ],
   "source": [
    "black_scholes_call(S0 = 50, \n",
    "                   K = 55,\n",
    "                   r = 0.05,\n",
    "                   T = 1,\n",
    "                   sigma = 0.25)"
   ]
  },
  {
   "cell_type": "markdown",
   "metadata": {},
   "source": [
    "Teaching note: maybe put some examples on the screen for them to calculate"
   ]
  },
  {
   "cell_type": "markdown",
   "metadata": {},
   "source": [
    "## Binomial Model\n",
    "\n",
    "The binomial model depends on a few variables:\n",
    "\n",
    "$u = $ Change in the 'up' state <br>\n",
    "$d = $ Change in the 'down' state (commonly assumed to be $d=1/u$) <br>\n",
    "$p_u = $ Probability of the up state <br>\n",
    "$p_d = 1- p_u =$ Probability of the down state <br>\n",
    "\n",
    "Using these variables, a tree of prices (and payoffs) are created to value the option in question. In this course, we will be using the Cox Ross Rubinstein method, which assumes:\n",
    "\n",
    "$u = e^{\\sigma \\sqrt{\\Delta t}}$<br>\n",
    "$d = 1/u = e^{-\\sigma \\sqrt{\\Delta t}}$<br>\n",
    "$p_u = \\frac{e^{r\\Delta t}-d}{u-d}$ <br>\n",
    "$p_d = 1-p_u$<br>\n",
    "<br>\n",
    "Where:\n",
    "\n",
    "$r=$ Risk free rate <br>\n",
    "$t=$ Time to maturity <br>\n",
    "$\\Delta t =$ Change in time for each step <br>\n",
    "$\\sigma=$ Asset volatility <br>\n",
    "\n",
    "We will now use this method to value a european call option."
   ]
  },
  {
   "cell_type": "code",
   "execution_count": 6,
   "metadata": {},
   "outputs": [],
   "source": [
    "# Define the payoff function for our option.\n",
    "def call_value(S, K):\n",
    "    return np.maximum(S-K, 0)\n",
    "\n",
    "# Define the binomial model\n",
    "def binomial_call_price(S0,r,K, sigma, N, T):\n",
    "    u = np.exp(sigma * np.sqrt(T/N))\n",
    "    d = 1/u\n",
    "    pt = (np.exp(r*T/N)-d)/(u-d) # Calculate the probability of an upwards movement\n",
    "    disc = np.exp(r*T) # Calculate the discount factor\n",
    "\n",
    "    total = 0\n",
    "    for i in range(0,N+1):\n",
    "        x = math.comb(N,i) * (pt ** i) * ((1-pt)**(N-i)) * call_value(S0 * (u **i)*(d **(N-i)),K)\n",
    "        total = total + x\n",
    "    return 1/disc * total"
   ]
  },
  {
   "cell_type": "code",
   "execution_count": 13,
   "metadata": {},
   "outputs": [
    {
     "data": {
      "text/plain": [
       "3.8683825375902283"
      ]
     },
     "execution_count": 13,
     "metadata": {},
     "output_type": "execute_result"
    }
   ],
   "source": [
    "# Now let's use the previous example, and include 252 nodes (i.e. a node per trading day)\n",
    "\n",
    "binomial_call_price(S0 = 50,\n",
    "                    r = 0.05,\n",
    "                    K = 55,\n",
    "                    sigma = 0.25,\n",
    "                    N = 5,\n",
    "                    T = 1)\n",
    "\n",
    "# We can see that the resulting price is very similar to that of the black scholes model."
   ]
  },
  {
   "cell_type": "markdown",
   "metadata": {},
   "source": [
    "Teaching note: get them to calc the same at various steps"
   ]
  },
  {
   "cell_type": "markdown",
   "metadata": {},
   "source": [
    "## Monte Carlo\n",
    "\n",
    "We now move onto the Monte Carlo method, which is the method we will be using throughout the rest of this topic and topic 4. Much like in topic 2, we begin our Monte Carlo by developing a function for price paths."
   ]
  },
  {
   "cell_type": "code",
   "execution_count": 8,
   "metadata": {},
   "outputs": [],
   "source": [
    "def random_walk(S0: float, T: float, sigma: float, mu: float, N: int, n_sims: int):\n",
    "    # Define length of time steps\n",
    "    dt = T/N\n",
    "    # Calculate an array of price paths using GBM\n",
    "    paths = S0 * np.exp(np.cumsum((mu - sigma**2/2)*dt + \\\n",
    "                                          sigma*np.sqrt(dt) * \\\n",
    "                                            rng.normal(size  = [N, n_sims]), axis = 0))\n",
    "    return paths"
   ]
  },
  {
   "cell_type": "code",
   "execution_count": 9,
   "metadata": {},
   "outputs": [],
   "source": [
    "# Now that we have a function for our price paths, we will have to calculate the payoff at the end of each path (as this is a European call).\n",
    "\n",
    "def mc_euro_call(S0: float, T: float, sigma: float, r: float, N: int, n_sims: int, K: float):\n",
    "    # First we generate our price paths\n",
    "    paths = random_walk(S0, T, sigma, r, N, n_sims)\n",
    "    # Now we calculate the payoffs\n",
    "    payoffs = np.maximum(paths[-1] - K, 0)\n",
    "    # Now we take the mean payoff and discount\n",
    "    price = np.mean(payoffs) * np.exp(-r*T)\n",
    "    return price"
   ]
  },
  {
   "cell_type": "code",
   "execution_count": 10,
   "metadata": {},
   "outputs": [
    {
     "data": {
      "text/plain": [
       "4.035145466710749"
      ]
     },
     "execution_count": 10,
     "metadata": {},
     "output_type": "execute_result"
    }
   ],
   "source": [
    "# Lets use this function to calculate the price of our call option.\n",
    "mc_euro_call(S0 = 50,\n",
    "          T = 1,\n",
    "          sigma = 0.25,\n",
    "          r = 0.05,\n",
    "          N = 252,\n",
    "          n_sims = 100_000,\n",
    "          K = 55)"
   ]
  },
  {
   "cell_type": "code",
   "execution_count": 11,
   "metadata": {},
   "outputs": [],
   "source": [
    "# We can also calculate the price of a put option by simply changing the payoff function.\n",
    "def mc_euro_put(S0: float, T: float, sigma: float, r: float, N: int, n_sims: int, K: float) -> float:\n",
    "    # First we generate our price paths\n",
    "    paths = random_walk(S0, T, sigma, r, N, n_sims)\n",
    "    \n",
    "    # Now we calculate the payoffs\n",
    "    payoffs = np.maximum(K - paths[-1], 0)\n",
    "\n",
    "    # Now we take the mean payoff and discount\n",
    "    price = np.mean(payoffs) * np.exp(-r*T)\n",
    "\n",
    "    return price"
   ]
  },
  {
   "cell_type": "code",
   "execution_count": 12,
   "metadata": {},
   "outputs": [
    {
     "data": {
      "text/plain": [
       "1.8812246811900843"
      ]
     },
     "execution_count": 12,
     "metadata": {},
     "output_type": "execute_result"
    }
   ],
   "source": [
    "mc_euro_put(S0 = 50,\n",
    "         T = 1,\n",
    "         sigma = 0.25,\n",
    "         r = 0.05,\n",
    "         N = 252,\n",
    "         n_sims = 100_000,\n",
    "         K = 45)"
   ]
  }
 ],
 "metadata": {
  "kernelspec": {
   "display_name": "Python 3",
   "language": "python",
   "name": "python3"
  },
  "language_info": {
   "codemirror_mode": {
    "name": "ipython",
    "version": 3
   },
   "file_extension": ".py",
   "mimetype": "text/x-python",
   "name": "python",
   "nbconvert_exporter": "python",
   "pygments_lexer": "ipython3",
   "version": "3.10.9"
  },
  "orig_nbformat": 4
 },
 "nbformat": 4,
 "nbformat_minor": 2
}
