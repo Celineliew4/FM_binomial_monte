{
 "cells": [
  {
   "cell_type": "markdown",
   "metadata": {},
   "source": [
    "# Binomial Model\n",
    "\n",
    "The binomial model depends on a few variables:\n",
    "\n",
    "$u = $ Change in the 'up' state <br>\n",
    "$d = $ Change in the 'down' state (commonly assumed to be $d=1/u$) <br>\n",
    "$p_u = $ Probability of the up state <br>\n",
    "$p_d = 1- p_u =$ Probability of the down state <br>\n",
    "\n",
    "Using these variables, a tree of prices (and payoffs) are created to value the option in question. In this course, we will be using the Cox Ross Rubinstein method, which assumes:\n",
    "\n",
    "$u = e^{\\sigma \\sqrt{\\Delta t}}$<br>\n",
    "$d = 1/u = e^{-\\sigma \\sqrt{\\Delta t}}$<br>\n",
    "$p_u = \\frac{e^{r\\Delta t}-d}{u-d}$ <br>\n",
    "$p_d = 1-p_u$<br>\n",
    "<br>\n",
    "Where:\n",
    "\n",
    "$r=$ Risk free rate <br>\n",
    "$t=$ Time to maturity <br>\n",
    "$\\Delta t =$ Change in time for each step <br>\n",
    "$\\sigma=$ Asset volatility <br>"
   ]
  },
  {
   "cell_type": "code",
   "execution_count": 7,
   "metadata": {},
   "outputs": [
    {
     "name": "stdout",
     "output_type": "stream",
     "text": [
      "[[ 89.09472523  79.37870064  70.72223522]\n",
      " [112.24009024 100.          89.09472523]\n",
      " [ 89.09472523 100.          89.09472523]\n",
      " [112.24009024 125.97837858 112.24009024]\n",
      " [ 89.09472523  79.37870064  89.09472523]\n",
      " [112.24009024 100.         112.24009024]\n",
      " [ 89.09472523 100.         112.24009024]\n",
      " [112.24009024 125.97837858 141.39824581]]\n"
     ]
    }
   ],
   "source": [
    "# graph a binomial payout tree for a stock\n",
    "\n",
    "def binomial_tree(S, K, r, T, sigma, N):\n",
    "    \"\"\"\n",
    "    Generate stock prices over time using a binomial model.\n",
    "    \n",
    "    Parameters:\n",
    "    S : float : initial stock price\n",
    "    K : float : strike price\n",
    "    r : float : risk-free interest rate\n",
    "    T : float : time to maturity\n",
    "    sigma : float : volatility\n",
    "    N : int : number of time steps\n",
    "    \n",
    "    Returns:\n",
    "    np.ndarray : stock prices at each node\n",
    "    \"\"\"\n",
    "    dt = T / N  # time step\n",
    "    u = np.exp(sigma * np.sqrt(dt))  # up factor\n",
    "    d = 1 / u  # down factor\n",
    "    p = (np.exp(r * dt) - d) / (u - d)  # risk-neutral probability\n",
    "\n",
    "    # Initialize the stock price tree\n",
    "    stock_tree = np.zeros((N + 1, N + 1))\n",
    "    stock_tree[0, 0] = S\n",
    "\n",
    "    # Fill the stock price tree\n",
    "    for i in range(1, N + 1):\n",
    "        for j in range(i + 1):\n",
    "            stock_tree[j, i] = S * (u ** (i - j)) * (d ** j)\n",
    "\n",
    "    # Extract all possible paths\n",
    "    paths = []\n",
    "    for i in range(2 ** N):\n",
    "        path = []\n",
    "        current_price = S\n",
    "        for j in range(N):\n",
    "            if (i >> j) & 1:\n",
    "                current_price *= u\n",
    "            else:\n",
    "                current_price *= d\n",
    "            path.append(current_price)\n",
    "        paths.append(path)\n",
    "\n",
    "    return np.array(paths)\n",
    "\n",
    "# Example usage\n",
    "S = 100  # initial stock price\n",
    "K = 100  # strike price\n",
    "r = 0.05  # risk-free interest rate\n",
    "T = 1  # time to maturity in years\n",
    "sigma = 0.2  # volatility\n",
    "N = 3  # number of time steps\n",
    "\n",
    "stock_paths = binomial_tree(S, K, r, T, sigma, N)\n",
    "print(stock_paths)"
   ]
  }
 ],
 "metadata": {
  "kernelspec": {
   "display_name": "Python 3",
   "language": "python",
   "name": "python3"
  },
  "language_info": {
   "codemirror_mode": {
    "name": "ipython",
    "version": 3
   },
   "file_extension": ".py",
   "mimetype": "text/x-python",
   "name": "python",
   "nbconvert_exporter": "python",
   "pygments_lexer": "ipython3",
   "version": "3.12.1"
  }
 },
 "nbformat": 4,
 "nbformat_minor": 2
}
